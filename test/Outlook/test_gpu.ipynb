{
 "cells": [
  {
   "cell_type": "code",
   "execution_count": 3,
   "metadata": {
    "collapsed": true
   },
   "outputs": [],
   "source": [
    "# import libraries\n",
    "import numpy as np\n",
    "import discrete_quantum as dq\n",
    "import timeit\n",
    "import cupy as cp"
   ]
  },
  {
   "cell_type": "code",
   "execution_count": 1,
   "metadata": {},
   "outputs": [
    {
     "ename": "NameError",
     "evalue": "name 'dq' is not defined",
     "output_type": "error",
     "traceback": [
      "\u001b[1;31m---------------------------------------------------------------------------\u001b[0m",
      "\u001b[1;31mNameError\u001b[0m                                 Traceback (most recent call last)",
      "Cell \u001b[1;32mIn [1], line 5\u001b[0m\n\u001b[0;32m      3\u001b[0m N \u001b[39m=\u001b[39m \u001b[39m10\u001b[39m\n\u001b[0;32m      4\u001b[0m n \u001b[39m=\u001b[39m \u001b[39m2\u001b[39m\u001b[39m*\u001b[39m\u001b[39m*\u001b[39mN\n\u001b[1;32m----> 5\u001b[0m H \u001b[39m=\u001b[39m dq\u001b[39m.\u001b[39mrandH(n)\n\u001b[0;32m      6\u001b[0m \u001b[39m# send H to gpu -> cp\u001b[39;00m\n\u001b[0;32m      7\u001b[0m H_gpu \u001b[39m=\u001b[39m cp\u001b[39m.\u001b[39marray(H)\n",
      "\u001b[1;31mNameError\u001b[0m: name 'dq' is not defined"
     ]
    }
   ],
   "source": [
    "# test speed of different operations\n",
    "# Generate random Hamiltonians using dq\n",
    "N = 10\n",
    "n = 2**N\n",
    "H = dq.randH(n)\n",
    "# send H to gpu -> cp\n",
    "H_gpu = cp.array(H)"
   ]
  },
  {
   "cell_type": "code",
   "execution_count": 5,
   "metadata": {},
   "outputs": [],
   "source": [
    "import numpy as np\n",
    "def speedup_error(f, g):\n",
    "    # each a vector of value, error\n",
    "    # output speedup and the propagated error\n",
    "    speedup = f[0]/g[0]\n",
    "    error = speedup*np.sqrt((f[1]/f[0])**2 + (g[1]/g[0])**2)\n",
    "    return [speedup, error]"
   ]
  },
  {
   "cell_type": "code",
   "execution_count": 9,
   "metadata": {},
   "outputs": [
    {
     "name": "stdout",
     "output_type": "stream",
     "text": [
      "Speedup of eigh:  3.418300653594771 +/- 0.14551620532192752\n"
     ]
    }
   ],
   "source": [
    "# Eigh of H\n",
    "#eigh_cpu = %timeit -o np.linalg.eigh(H)\n",
    "#eigh_gpu = %timeit -o cp.linalg.eigh(H_gpu)\n",
    "#523 ms ± 21.7 ms per loop (mean ± std. dev. of 7 runs, 1 loop each)\n",
    "#153 ms ± 261 µs per loop (mean ± std. dev. of 7 runs, 1 loop each)\n",
    "\n",
    "# [value, error]\n",
    "time_eigh_cpu = [523, 22]\n",
    "time_eigh_gpu = [153, 1]\n",
    "# speedup, error propagated\n",
    "speedup_eigh = speedup_error(time_eigh_cpu, time_eigh_gpu)\n",
    "print('Speedup of eigh: ', speedup_eigh[0], '+/-', speedup_eigh[1])"
   ]
  },
  {
   "cell_type": "code",
   "execution_count": 23,
   "metadata": {},
   "outputs": [],
   "source": [
    "U = dq.randU(n)\n",
    "U_gpu = cp.array(U)\n",
    "V = dq.randU(n)\n",
    "V_gpu = cp.array(V)"
   ]
  },
  {
   "cell_type": "code",
   "execution_count": 7,
   "metadata": {},
   "outputs": [
    {
     "name": "stdout",
     "output_type": "stream",
     "text": [
      "Speedup of dot:  165.58441558441558 +/- 0.5949546054558421\n"
     ]
    }
   ],
   "source": [
    "# Matrix multiplication\n",
    "#matmul_cpu = %timeit -o np.matmul(U,V)\n",
    "#matmul_gpu = %timeit -o U_gpu @ V_gpu\n",
    "#25.5 ms ± 91.6 µs per loop (mean ± std. dev. of 7 runs, 10 loops each)\n",
    "#154 µs ± 12.4 µs per loop (mean ± std. dev. of 7 runs, 10 loops each)\n",
    "time_dot_cpu = [25.5, 0.0916]\n",
    "time_dot_gpu = [0.154, 0.0000124]\n",
    "speedup_dot = speedup_error(time_dot_cpu, time_dot_gpu)\n",
    "print('Speedup of dot: ', speedup_dot[0], '+/-', speedup_dot[1])"
   ]
  },
  {
   "cell_type": "code",
   "execution_count": 8,
   "metadata": {},
   "outputs": [
    {
     "name": "stdout",
     "output_type": "stream",
     "text": [
      "Speedup of eigh / dot (cpu):  20.50980392156863 +/- 0.8541636552207779\n",
      "Speedup of eigh / dot: (gpu) 993.5064935064935 +/- 1.6966921077879842\n"
     ]
    }
   ],
   "source": [
    "speedup_eigh_dot_cpu = speedup_error(time_eigh_cpu, time_dot_cpu)\n",
    "speedup_eigh_dot_gpu = speedup_error(time_eigh_gpu, time_dot_gpu)\n",
    "print('Speedup of eigh / dot (cpu): ', speedup_eigh_dot_cpu[0], '+/-', speedup_eigh_dot_cpu[1])\n",
    "print('Speedup of eigh / dot (gpu):', speedup_eigh_dot_gpu[0], '+/-', speedup_eigh_dot_gpu[1])"
   ]
  },
  {
   "cell_type": "code",
   "execution_count": null,
   "metadata": {
    "collapsed": false
   },
   "outputs": [],
   "source": []
  },
  {
   "cell_type": "code",
   "execution_count": null,
   "metadata": {},
   "outputs": [],
   "source": []
  }
 ],
 "metadata": {
  "kernelspec": {
   "display_name": "dnn",
   "language": "python",
   "name": "python3"
  },
  "language_info": {
   "codemirror_mode": {
    "name": "ipython",
    "version": 3
   },
   "file_extension": ".py",
   "mimetype": "text/x-python",
   "name": "python",
   "nbconvert_exporter": "python",
   "pygments_lexer": "ipython3",
   "version": "3.9.15"
  },
  "vscode": {
   "interpreter": {
    "hash": "9665365f9ba6dfefa932190d23f93d11d43f4bbe1242664a425ccf6082259e7f"
   }
  }
 },
 "nbformat": 4,
 "nbformat_minor": 0
}
