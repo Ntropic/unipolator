{
 "cells": [
  {
   "cell_type": "code",
   "execution_count": 8,
   "metadata": {},
   "outputs": [],
   "source": [
    "# In this notebook we develop methods to predict the expected errors of \n",
    "# Magnus expansion based piece-wise constant time evolution based pulse integration\n",
    "# We present a method to estimate maximum errors, and determine step widths necessary \n",
    "# to achieve a target Infidelity (either for a pulse or merely for a single time-step)\n",
    "# this allows adequately tailored unitary inteprolation grids to be constructed in such \n",
    "# a way, so as to not further limit the accuracy of an integration sheme"
   ]
  },
  {
   "cell_type": "code",
   "execution_count": 1,
   "metadata": {},
   "outputs": [],
   "source": [
    "import numpy as np\n",
    "from numpy.linalg import norm, eigh, qr\n",
    "from scipy.linalg import schur\n",
    "\n",
    "def Dag(U):\n",
    "    return np.transpose(np.conj(U))\n",
    "\n",
    "def vecxvec( E, wf, alpha): # Many times faster than multiply\n",
    "    s = E.size\n",
    "    for i in range(s):\n",
    "        wf[i] = np.exp(-1j * E[i] * alpha) * wf[i]\n",
    "    return wf\n",
    "# Construct matrix exponentials and products faster than in numpy or scipy\n",
    "def vm_exp_mul(E, V, dt = 1.0): # expm(diag(vector))*matrix  multiplication via exp(vector)*matrix\n",
    "    s = E.size\n",
    "    A = np.empty((s, s), np.complex128)\n",
    "    for i in range(s):\n",
    "        A[i,:] = np.exp(-1j * E[i] * dt) * Dag(V[:,i])\n",
    "    return A\n",
    "def expmH_from_Eig(E, V, dt = 1.0):\n",
    "    U = np.dot(V, vm_exp_mul(E, V, dt))\n",
    "    return U\n",
    "def expmH(H, dt = 1.0):\n",
    "    E, V = eigh(H)\n",
    "    return expmH_from_Eig( E, V, dt)"
   ]
  },
  {
   "cell_type": "code",
   "execution_count": 16,
   "metadata": {},
   "outputs": [
    {
     "name": "stdout",
     "output_type": "stream",
     "text": [
      "I_M1: 6.885429826297695e-08\n",
      "I_M2: 5.936814373441734e-10\n",
      "--------------------------------------------------\n",
      "Ratio (I_M1/I_M2) 115.97852641476514\n"
     ]
    }
   ],
   "source": [
    "# a function that takes an H_s object (Hamiltonian parts) and returns the constant time step approximation error\n",
    "# takes the maximum rate of change for each field\n",
    "def M1_Error(H_s, maxs, max_rates, t_step, t_max=None, mins=None):\n",
    "    # Calculates the Infidelity (accuracy) of a M1 Magnus expansion (lowest order), by comparing with a M2 Magnus expansion (using cuommutators)\n",
    "    # H_s contains the Hamiltonian parts [H0, H1, H2, ...] where H(t) = H0 + c1(t)*H1 + c2(t)*H2 + ...\n",
    "    # for each ci(t) we construct a linear ramp function ci(t) = xi + yi*t where xi is in [mins[i], maxs[i]] and yi is in [-max_rates[i], max_rates[i]]\n",
    "    # for a pulse max_rates may be given by max_rates = maxs * 2 * np.pi * f_max\n",
    "    # tries to estimate a maximum error causing combination of parameters by alternating increasing and decreasing terms so that the functions don't cancel out\n",
    "    # t_step is the time step used in the simulation\n",
    "    # t_max is the total time of the simulation (if not set, will be equal to t_step) -> used to calculate the cummulative error of multiple steps\n",
    "    if t_max is None:\n",
    "        t_max = t_step\n",
    "    t = t_step\n",
    "    n_steps = int(t_max/t_step)\n",
    "    if mins is None:\n",
    "        mins = -maxs\n",
    "    # construct commutators\n",
    "    def commutator(Hi, Hj):\n",
    "        return Hi @ Hj - Hj @ Hi\n",
    "    def param(i, do_max_i, mins, maxs, max_rates):\n",
    "        if do_max_i[i] == 1:\n",
    "            xi, yi = maxs[i], -max_rates[i]\n",
    "        else:\n",
    "            xi, yi = mins[i], max_rates[i]\n",
    "        return xi, yi\n",
    "    H0 = H_s[0]\n",
    "    Hi = H_s[1:]\n",
    "    n = len(Hi)\n",
    "    s = H0.shape[0]\n",
    "    # Construct a timestep using t  and the 1st order magnus correction\n",
    "    H_magnus_first = np.zeros((s, s), dtype=np.complex128)\n",
    "    do_max_i = [1 if i % 2 == 0 else -1 for i in range(n)]\n",
    "    t3 = t**3\n",
    "    for i in range(n):\n",
    "        xi, yi = param(i, do_max_i, mins, maxs, max_rates)\n",
    "        H_magnus_first += commutator(H0, Hi[i]) * t3 / 6 * (-yi)\n",
    "        for j in range(i+1, n):\n",
    "            xj, yj = param(j, do_max_i, mins, maxs, max_rates)\n",
    "            H_magnus_first += commutator(Hi[i], Hi[j]) * t3 / 12 * ( -xi*yj + yi*xj ) # /12 * because 1/2 of magnus term, and 1/6 from the integrals\n",
    "    # estimate error -> calculate exponential -> then infidelity\n",
    "    U_magnus_first = expmH(H_magnus_first) \n",
    "    # calculate the matrix power using n_steps\n",
    "    if n_steps > 1:\n",
    "        U_magnus_first = np.linalg.matrix_power(U_magnus_first, n_steps)\n",
    "    curr_tr = np.trace(U_magnus_first)\n",
    "    I = s/(s+1)-1/(s*(s+1)) * np.abs(curr_tr)**2\n",
    "    return I\n",
    "\n",
    "# Generalize Magnus_1_Error to Magnus_2_Error, where we compare first order Magnus to second order Magnus errors\n",
    "def M2_Error(H_s, maxs, max_rates, t_step, t_max=None, mins=None):\n",
    "    # Calculates the Infidelity (accuracy) of a M2 Magnus expansion (using commutator terms), by comparing with a M3 Magnus expansion (using double commutator terms)\n",
    "    # H_s contains the Hamiltonian parts [H0, H1, H2, ...] where H(t) = H0 + c1(t)*H1 + c2(t)*H2 + ...\n",
    "    # for each ci(t) we construct a linear ramp function ci(t) = xi + yi*t where xi is in [mins[i], maxs[i]] and yi is in [-max_rates[i], max_rates[i]]\n",
    "    # for a pulse max_rates may be given by max_rates = maxs * 2 * np.pi * f_max\n",
    "    # tries to estimate a maximum error causing combination of parameters by alternating increasing and decreasing terms so that the functions don't cancel out\n",
    "    # t_step is the time step used in the simulation\n",
    "    # t_max is the total time of the simulation (if not set, will be equal to t_step) -> used to calculate the cummulative error of multiple steps\n",
    "    # construct commutators\n",
    "    if t_max is None:\n",
    "        t_max = t_step\n",
    "    t = t_step\n",
    "    n_steps = int(t_max/t_step)\n",
    "    if mins is None:\n",
    "        mins = -maxs\n",
    "    def commutator(Hi, Hj):\n",
    "        return Hi @ Hj - Hj @ Hi\n",
    "    def comm3(Hi, Hj, Hk):\n",
    "        return commutator(Hi, commutator(Hj, Hk))\n",
    "    def param(i, do_max_i, mins, maxs, max_rates):\n",
    "        if do_max_i[i] == 1:\n",
    "            xi, yi = maxs[i], -max_rates[i]\n",
    "        else:\n",
    "            xi, yi = mins[i], max_rates[i]\n",
    "        return xi, yi\n",
    "    H0 = H_s[0]\n",
    "    Hi = H_s[1:]\n",
    "    n = len(Hi)\n",
    "    s = H0.shape[0]\n",
    "    # Construct a timestep using t  and the 1st order magnus correction\n",
    "    H_magnus_second = np.zeros((s, s), dtype=np.complex128)\n",
    "    do_max_i = [1 if i % 2 == 0 else -1 for i in range(n)]\n",
    "    t4 = t**4\n",
    "    for i in range(n):\n",
    "        xi, yi = param(i, do_max_i, mins, maxs, max_rates)\n",
    "        H_magnus_second += comm3(H0, H0, Hi[i]) * t4 / 24 * (-yi)\n",
    "        for j in range(n):\n",
    "            xj, yj = param(j, do_max_i, mins, maxs, max_rates)\n",
    "            if j > i:\n",
    "                H_magnus_second += comm3(H0, Hi[i], Hi[j]) * t4 / 24 * ( -xi*yj + yi*xj ) \n",
    "            H_magnus_second += comm3(Hi[i], H0, Hi[j]) * t4 / 120 * yj * ( -4*t*yi - 5*xi )\n",
    "            for k in range(j+1,n):\n",
    "                xk, yk = param(k, do_max_i, mins, maxs, max_rates)\n",
    "                H_magnus_second += comm3(Hi[i], Hi[j], Hi[k]) * t4 / 120 * ( 4*t*yi + 5*xi ) * ( -xj*yk + yj*xk )\n",
    "\n",
    "    # estimate error -> calculate exponential -> then infidelity\n",
    "    U_magnus_second = expmH(H_magnus_second) \n",
    "    curr_tr = np.trace(U_magnus_second)\n",
    "    I = s/(s+1)-1/(s*(s+1)) * np.abs(curr_tr)**2\n",
    "    return I\n",
    "\n",
    "import Analysis_Code.discrete_quantum as dq\n",
    "rng= np.random.default_rng(100)\n",
    "n = 3\n",
    "s = 16\n",
    "H_s = dq.Random_parametric_Hamiltonian_gauss(n, s, sigmas=np.pi/2*np.array([1.0,0.025, 0.001]), rng=rng)\n",
    "#mins = -np.ones(n)\n",
    "maxs = np.ones(n)\n",
    "f_max = 3.0\n",
    "max_rates = maxs * 2 * np.pi * f_max\n",
    "I_M1 = M1_Error(H_s, maxs, max_rates, t_step=0.1)\n",
    "I_M2 = M2_Error(H_s, maxs, max_rates, t_step=0.1)\n",
    "print('I_M1:',I_M1)\n",
    "print('I_M2:', I_M2)\n",
    "print('-'*50)\n",
    "print('Ratio (I_M1/I_M2)', I_M1/I_M2)"
   ]
  },
  {
   "cell_type": "code",
   "execution_count": 18,
   "metadata": {},
   "outputs": [
    {
     "name": "stderr",
     "output_type": "stream",
     "text": [
      "100%|██████████| 100/100 [00:14<00:00,  6.78it/s]\n"
     ]
    }
   ],
   "source": [
    "# Parameter scan\n",
    "# We scan for a range of values of t using log spacing\n",
    "from Analysis_Code.iplots import *\n",
    "from tqdm import tqdm\n",
    "t_vals = np.logspace(-3, 0, 100)\n",
    "\n",
    "n = 3\n",
    "s = 16\n",
    "#mins = -np.ones(n)\n",
    "maxs = np.ones(n)\n",
    "f_max = 3.0\n",
    "max_rates = maxs * 2 * np.pi * f_max\n",
    "rng = np.random.default_rng(100)\n",
    "\n",
    "reps = 100\n",
    "I_vals_M1 = np.zeros((len(t_vals), reps))\n",
    "I_vals_M2 = np.zeros((len(t_vals), reps))\n",
    "\n",
    "for r in tqdm(range(reps)):\n",
    "    H_s = dq.Random_parametric_Hamiltonian_gauss(n, s, sigmas=np.pi/2*np.array([1.0,0.025, 0.025]), rng=rng)\n",
    "    for i, t in enumerate(t_vals):\n",
    "        I_vals_M1[i, r] = M1_Error(H_s, maxs, max_rates, t_step=t)\n",
    "        I_vals_M2[i, r] = M2_Error(H_s, maxs, max_rates, t_step=t)\n",
    "# get mean and std\n",
    "I_mean_M1 = np.mean(I_vals_M1, axis=1)\n",
    "I_std_M1 = np.std(I_vals_M1, axis=1)\n",
    "I_mean_M2 = np.mean(I_vals_M2, axis=1)\n",
    "I_std_M2 = np.std(I_vals_M2, axis=1)"
   ]
  },
  {
   "cell_type": "code",
   "execution_count": 558,
   "metadata": {},
   "outputs": [
    {
     "data": {
      "text/plain": [
       "<matplotlib.legend.Legend at 0x22901b57940>"
      ]
     },
     "execution_count": 558,
     "metadata": {},
     "output_type": "execute_result"
    },
    {
     "data": {
      "image/png": "[encoded data removed]",
      "text/plain": [
       "<Figure size 800x600 with 1 Axes>"
      ]
     },
     "metadata": {},
     "output_type": "display_data"
    }
   ],
   "source": [
    "I_target = 10**-13\n",
    "#### Estimate Step width for Target Fidelity using a 0th (1st order) order Magnus expansion #############################\n",
    "# first we estimate the drift energies \n",
    "def Initial_t_step_from_H0(H_s, rotations=1/10):\n",
    "    H0 = H_s[0]\n",
    "    # get eigenvalues\n",
    "    E0, _ = np.linalg.eigh(H0)\n",
    "    max_dE = np.max(E0) - np.min(E0)\n",
    "    max_df = max_dE / (2*np.pi)\n",
    "    t_step = rotations / max_df\n",
    "    return t_step\n",
    "def Magnus_target_t_step(I_tar, I_t_step, t0, n=6):\n",
    "    # Calculate the target t_step for a given target fidelity I_tar, given the fidelity at t_step I_t_step\n",
    "    # for M1, n=6, for M2, n=8\n",
    "    return (I_target/I_t_step)**(1/n) * t_step\n",
    "def Magnus_Infidelity_fun(t, I_t_step, t_step, n=6):\n",
    "    # construct the expected infidelity of a Magnus expansion with step width t, from a single value I_t_step with t_step\n",
    "    # use n=6 for M1 and n=8 for M2\n",
    "    return I_t_step * (t/t_step)**n\n",
    "\n",
    "# get M1 and M2 values at t_step\n",
    "t_step = Initial_t_step_from_H0(H_s)\n",
    "#print(t_step)\n",
    "I_M1_t_step = M1_Error(H_s, mins, maxs, max_rates, t=t_step)\n",
    "I_M2_t_step = M2_Error(H_s, mins, maxs, max_rates, t=t_step)\n",
    "# Error can be estimated as Is*t**n , with n=6 for M1 and n=8 for M2\n",
    "\n",
    "t_target_M1 = Magnus_target_t_step(I_target, I_M1_t_step, t_step, n=6)\n",
    "t_target_M2 = Magnus_target_t_step(I_target, I_M2_t_step, t_step, n=8) \n",
    "#print(t_target_M1, t_target_M2)\n",
    "\n",
    "# plot with min_mean_max_plot from iplots\n",
    "fig, ax1 = plt.subplots(figsize=(8,6))\n",
    "legendary=[]\n",
    "legendary, _ = min_mean_max_plot(ax1, t_vals, [I_mean_M1], [I_mean_M1-I_std_M1], [I_mean_M1+I_std_M1], ps=0.68, label=r'M1', legendary=legendary, support=[10**-15,1.0])\n",
    "legendary, _ = min_mean_max_plot(ax1, t_vals, [I_mean_M2], [I_mean_M2-I_std_M2], [I_mean_M2+I_std_M2], ps=0.68, label=r'M2', legendary=legendary, support=[10**-15,1.0])\n",
    "ax1.set_xscale('log')\n",
    "ax1.set_yscale('log')\n",
    "ax1.set_xlabel(r'$t$')\n",
    "ax1.set_ylabel(r'$I$')\n",
    "# plot Infidelity fun\n",
    "inds = np.where(I_mean_M1 > 10**-15)[0]\n",
    "ts_M1 = t_vals[inds]\n",
    "inds = np.where(I_mean_M2 > 10**-15)[0]\n",
    "ts_M2 = t_vals[inds]\n",
    "# M1\n",
    "ax1.plot(ts_M1, Magnus_Infidelity_fun(ts_M1, I_M1_t_step, t_step, n=6), color='C0', linestyle='--', label=r'$\\mathcal{O}(t^6)$')\n",
    "ax1.plot(ts_M2, Magnus_Infidelity_fun(ts_M2, I_M2_t_step, t_step, n=8), color='C1', linestyle='--', label=r'$\\mathcal{O}(t^8)$')\n",
    "# two vertical lines at the t_target_M1 and t_target_M2 values\n",
    "ax1.axvline(t_target_M1, color='C0', linestyle=':')\n",
    "ax1.axvline(t_target_M2, color='C1', linestyle=':')\n",
    "ax1.legend(*legendary)"
   ]
  },
  {
   "cell_type": "code",
   "execution_count": null,
   "metadata": {},
   "outputs": [],
   "source": [
    "# Calculate the Ratio to a target infidelity as a function of the control field amplitudes\n"
   ]
  },
  {
   "cell_type": "code",
   "execution_count": null,
   "metadata": {},
   "outputs": [],
   "source": [
    "# for a given set of frequencies f and maximum amplitudes a_max for a pulse p(t) in [-a_max, a_max] and p(t) = sum_{i=1}^n c_i*sin(2*pi*f_i*t + phi_i)\n",
    "# the max ramp is given by (using f_max = max(f)): a_max * f_max * 2*pi"
   ]
  },
  {
   "cell_type": "code",
   "execution_count": null,
   "metadata": {},
   "outputs": [],
   "source": []
  },
  {
   "cell_type": "code",
   "execution_count": 11,
   "metadata": {},
   "outputs": [],
   "source": [
    "#####  Symbolic Python To Derive the Equations needed for the Error  #######################\n",
    "#####  Analysis of M1 and M2 Magnus expansions (by expanding one order further)  ###########"
   ]
  },
  {
   "cell_type": "code",
   "execution_count": 12,
   "metadata": {},
   "outputs": [
    {
     "data": {
      "image/png": "[encoded data removed]",
      "text/latex": [
       "$\\displaystyle - \\frac{t^{3} y_{i}}{6}$"
      ],
      "text/plain": [
       "  3    \n",
       "-t ⋅yᵢ \n",
       "───────\n",
       "   6   "
      ]
     },
     "metadata": {},
     "output_type": "display_data"
    },
    {
     "data": {
      "image/png": "[encoded data removed]",
      "text/latex": [
       "$\\displaystyle \\frac{t^{3} \\left(- x_{i} y_{j} + x_{j} y_{i}\\right)}{6}$"
      ],
      "text/plain": [
       " 3                   \n",
       "t ⋅(-xᵢ⋅y_j + x_j⋅yᵢ)\n",
       "─────────────────────\n",
       "          6          "
      ]
     },
     "metadata": {},
     "output_type": "display_data"
    }
   ],
   "source": [
    "# use sympy to construct functions and commutators of them\n",
    "import sympy as sp\n",
    "from sympy import init_printing\n",
    "init_printing() \n",
    "# ci(s) = xi + s * yi + s^2/2 * zi\n",
    "# cj(s) = xj + s * yj + s^2/2 * zj\n",
    "# then calculate: ci(s2)-ci(s1) and ci(s1)*cj(s2)-cj(s1)*ci(s2)\n",
    "# define the symbols\n",
    "s1, s2, xi, yi, xj, yj, t = sp.symbols('s_1 s_2 x_i y_i x_j y_j t')\n",
    "# define lambda functions using sympy\n",
    "ci = lambda s: xi + s * yi \n",
    "cj = lambda s: xj + s * yj \n",
    "#### First Order Magnus #######################################################\n",
    "first_term = ci(s2)-ci(s1) #+ cj(s2)-cj(s1)\n",
    "second_term = ci(s1)*cj(s2)-cj(s1)*ci(s2)\n",
    "# simplify terms \n",
    "first_term  = sp.simplify(sp.collect(first_term, [yi, yj]))\n",
    "second_term = sp.simplify(sp.collect(sp.expand(second_term), [xi*yj, xj*yi]))\n",
    "# integrate terms with integrals int_0^t ds_1 int_0^s_1 ds_2 term\n",
    "# first term\n",
    "first_term_int  = sp.simplify(sp.collect(sp.integrate(sp.integrate(first_term, (s2, 0, s1)), (s1, 0, t)), t**3))\n",
    "second_term_int = sp.simplify(sp.collect(sp.integrate(sp.integrate(second_term, (s2, 0, s1)), (s1, 0, t)), t**3))\n",
    "display(first_term_int)\n",
    "display(second_term_int)"
   ]
  },
  {
   "cell_type": "code",
   "execution_count": 13,
   "metadata": {},
   "outputs": [
    {
     "data": {
      "image/png": "[encoded data removed]",
      "text/latex": [
       "$\\displaystyle - \\frac{t^{4} y_{j}}{24}$"
      ],
      "text/plain": [
       "  4     \n",
       "-t ⋅y_j \n",
       "────────\n",
       "   24   "
      ]
     },
     "metadata": {},
     "output_type": "display_data"
    },
    {
     "data": {
      "image/png": "[encoded data removed]",
      "text/latex": [
       "$\\displaystyle \\frac{t^{4} \\left(- x_{j} y_{k} + x_{k} y_{j}\\right)}{24}$"
      ],
      "text/plain": [
       " 4                   \n",
       "t ⋅(-x_j⋅yₖ + xₖ⋅y_j)\n",
       "─────────────────────\n",
       "          24         "
      ]
     },
     "metadata": {},
     "output_type": "display_data"
    },
    {
     "data": {
      "image/png": "[encoded data removed]",
      "text/latex": [
       "$\\displaystyle \\frac{t^{4} y_{j} \\left(- 4 t y_{i} - 5 x_{i}\\right)}{120}$"
      ],
      "text/plain": [
       " 4                     \n",
       "t ⋅y_j⋅(-4⋅t⋅yᵢ - 5⋅xᵢ)\n",
       "───────────────────────\n",
       "          120          "
      ]
     },
     "metadata": {},
     "output_type": "display_data"
    },
    {
     "data": {
      "image/png": "[encoded data removed]",
      "text/latex": [
       "$\\displaystyle \\frac{t^{4} \\cdot \\left(4 t y_{i} + 5 x_{i}\\right) \\left(- x_{j} y_{k} + x_{k} y_{j}\\right)}{120}$"
      ],
      "text/plain": [
       " 4                                   \n",
       "t ⋅(4⋅t⋅yᵢ + 5⋅xᵢ)⋅(-x_j⋅yₖ + xₖ⋅y_j)\n",
       "─────────────────────────────────────\n",
       "                 120                 "
      ]
     },
     "metadata": {},
     "output_type": "display_data"
    }
   ],
   "source": [
    "#### Second Order Magnus ######################################################\n",
    "s1, s2, s3, xi, yi, xj, yj, xk, yk, t = sp.symbols('s_1 s_2 s_3 x_i y_i x_j y_j x_k y_k t')\n",
    "# define lambda functions using sympy\n",
    "ci = lambda s: xi + s * yi \n",
    "cj = lambda s: xj + s * yj \n",
    "ck = lambda s: xk + s * yk \n",
    "first_term  = cj(s3)-cj(s2) #+ ck(s3)-ck(s2)\n",
    "second_term = cj(s2)*ck(s3)-ck(s2)*cj(s3)\n",
    "third_term  = ci(s1) * first_term\n",
    "fourth_term = ci(s1) * second_term\n",
    "# simplify terms \n",
    "first_term  = sp.simplify(sp.collect(first_term, [yj, yk]))\n",
    "second_term = sp.simplify(sp.collect(sp.expand(second_term), [xj*yk, xk*yj]))\n",
    "third_term = sp.simplify(sp.collect(sp.expand(third_term), [xi*yj, xi*yk, yi*yj, yi*yk]))\n",
    "fourth_term = sp.simplify(sp.collect(sp.expand(fourth_term), [xj*yk, xk*yj, xi*xj*yk, xi*xk*yj]))\n",
    "# integrate terms with integrals int_0^t ds_1 int_0^s_1 ds_2 term\n",
    "# first term\n",
    "def magnus_2_integral(term):\n",
    "    return sp.simplify(sp.collect(sp.integrate(sp.integrate(sp.integrate(term, (s3, 0, s2)), (s2, 0, s1)), (s1, 0, t)), t))\n",
    "first_term_int  = magnus_2_integral(first_term)\n",
    "second_term_int = magnus_2_integral(second_term)\n",
    "third_term_int  = magnus_2_integral(third_term)\n",
    "fourth_term_int = magnus_2_integral(fourth_term)\n",
    "# print the terms using display latex\n",
    "display(first_term_int)\n",
    "display(second_term_int)\n",
    "display(third_term_int)\n",
    "display(fourth_term_int)"
   ]
  },
  {
   "cell_type": "code",
   "execution_count": null,
   "metadata": {},
   "outputs": [],
   "source": []
  },
  {
   "cell_type": "code",
   "execution_count": null,
   "metadata": {},
   "outputs": [],
   "source": []
  }
 ],
 "metadata": {
  "kernelspec": {
   "display_name": "mypy",
   "language": "python",
   "name": "python3"
  },
  "language_info": {
   "codemirror_mode": {
    "name": "ipython",
    "version": 3
   },
   "file_extension": ".py",
   "mimetype": "text/x-python",
   "name": "python",
   "nbconvert_exporter": "python",
   "pygments_lexer": "ipython3",
   "version": "3.9.16"
  }
 },
 "nbformat": 4,
 "nbformat_minor": 2
}
