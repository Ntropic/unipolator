{
 "cells": [
  {
   "cell_type": "code",
   "execution_count": null,
   "id": "db49fcf0",
   "metadata": {
    "pycharm": {
     "name": "#%%\n"
    }
   },
   "outputs": [],
   "source": [
    "from useful import *\n",
    "from discrete_quantum import *\n",
    "from numpy import empty, arange\n",
    "import numpy as np\n",
    "from timeit import *\n",
    "\n",
    "from unipolator import *\n",
    "\n",
    "from iplots import *\n",
    "import matplotlib.pyplot as plt"
   ]
  },
  {
   "cell_type": "code",
   "execution_count": null,
   "id": "4da1fe23",
   "metadata": {
    "pycharm": {
     "name": "#%%\n"
    }
   },
   "outputs": [],
   "source": [
    "%load_ext Cython"
   ]
  },
  {
   "cell_type": "code",
   "execution_count": null,
   "id": "2ec7e4b2",
   "metadata": {
    "pycharm": {
     "name": "#%%\n"
    }
   },
   "outputs": [],
   "source": [
    "%%cython\n",
    "# import numpy as np\n",
    "cimport numpy as np\n",
    "np.import_array()  # Call this to access cythons api for ndarrays\n",
    "cimport cython"
   ]
  },
  {
   "cell_type": "code",
   "execution_count": null,
   "id": "6af9a10c",
   "metadata": {
    "pycharm": {
     "name": "#%%\n"
    }
   },
   "outputs": [],
   "source": [
    "n = 3\n",
    "s = 2\n",
    "bins = 12\n",
    "H_s = np.empty([n,s,s], dtype=np.complex128)\n",
    "for i in range(n):\n",
    "    H_s[i,:,:] = randH(s)\n",
    "    \n",
    "c_mins = np.zeros(n-1, dtype=np.double)\n",
    "c_maxs = np.ones(n-1, dtype=np.double)\n",
    "c_bins = bins*np.ones(n-1, dtype=int)\n",
    "ui = UI(H_s, c_mins, c_maxs, c_bins)\n",
    "\n",
    "how_many = 500\n",
    "c_s = np.linspace(0,1,how_many)\n",
    "L = np.empty([how_many,how_many,n-1],dtype=int)\n",
    "dL = np.empty([how_many,how_many,n-1], dtype=int)\n",
    "alpha = np.empty([how_many,how_many,n-1], dtype=np.double)\n",
    "C = np.empty([how_many,how_many], dtype=np.double)\n",
    "for i, d in enumerate(c_s):\n",
    "    for j, e in enumerate(c_s):\n",
    "        c = np.array([d,e]) #np.random.random(n-1)\n",
    "        L[i,j,:], dL[i,j,:], alpha[i,j,:] = ui.get_single_param(c)\n",
    "        C[i,j] = np.sqrt(sum(alpha[i,j,:]**2))\n",
    "fig, (ax1, ax2, ax3, ax4, ax5) = plt.subplots(1, 5, figsize=(28,7))\n",
    "ax1.imshow(2*L[:,:,1].T+L[:,:,0].T, origin='lower')\n",
    "ax2.imshow(2*dL[:,:,1].T+dL[:,:,0].T, origin='lower')\n",
    "ax3.imshow(alpha[:,:,0].T*(1/2+dL[:,:,0].T)*2, origin='lower')\n",
    "ax4.imshow(alpha[:,:,1].T*(1/2+dL[:,:,1].T)*2, origin='lower')\n",
    "ax5.imshow(C.T, origin='lower')\n",
    "plt.show()"
   ]
  },
  {
   "cell_type": "code",
   "execution_count": null,
   "id": "dcf6f05c",
   "metadata": {
    "pycharm": {
     "name": "#%%\n"
    }
   },
   "outputs": [],
   "source": [
    "import unipolator_old as ui_old\n",
    "n = 3\n",
    "s = 2\n",
    "bins = 12\n",
    "H_s = np.empty([n,s,s], dtype=np.complex128)\n",
    "for i in range(n):\n",
    "    H_s[i,:,:] = randH(s)\n",
    "    \n",
    "c_mins = np.zeros(n-1, dtype=np.double)\n",
    "c_maxs = np.ones(n-1, dtype=np.double)\n",
    "c_bins = bins*np.ones(n-1, dtype=int)\n",
    "c0s = array([c_mins, c_maxs/bins])\n",
    "\n",
    "\n",
    "how_many = 500\n",
    "c_s = np.linspace(0,1,how_many)\n",
    "oL = np.empty([how_many,how_many,n-1],dtype=int)\n",
    "odL = np.empty([how_many,how_many,n-1], dtype=int)\n",
    "oalpha = np.empty([how_many,how_many,n-1], dtype=np.double)\n",
    "oC = np.empty([how_many,how_many], dtype=np.double)\n",
    "for i, d in enumerate(c_s):\n",
    "    for j, e in enumerate(c_s):\n",
    "        c = np.array([d,e]) #np.random.random(n-1)\n",
    "        oL[i,j,:], oalpha[i,j,:], odL[i,j,:] = ui_old.Parameters2OddGrid(c, c0s, c_bins)\n",
    "        oC[i,j] = np.sqrt(sum(alpha[i,j,:]**2))\n",
    "fig, (ax1, ax2, ax3, ax4, ax5) = plt.subplots(1, 5, figsize=(28,7))\n",
    "ax1.imshow(2*oL[:,:,1].T+oL[:,:,0].T, origin='lower')\n",
    "ax2.imshow(2*odL[:,:,1].T+odL[:,:,0].T, origin='lower')\n",
    "ax3.imshow(oalpha[:,:,0].T*(1/2+dL[:,:,0].T)*2, origin='lower')\n",
    "ax4.imshow(oalpha[:,:,1].T*(1/2+dL[:,:,1].T)*2, origin='lower')\n",
    "ax5.imshow(oC.T, origin='lower')\n",
    "plt.show()"
   ]
  },
  {
   "cell_type": "code",
   "execution_count": null,
   "id": "90a37011",
   "metadata": {
    "pycharm": {
     "name": "#%%\n"
    }
   },
   "outputs": [],
   "source": [
    "#Compare results\n",
    "fig, (ax1, ax2, ax3, ax4) = plt.subplots(1, 4, figsize=(28,7))\n",
    "ax1.imshow(oL[:,:,1].T-L[:,:,1].T, origin='lower')\n",
    "ax2.imshow(oL[:,:,0].T-L[:,:,0].T, origin='lower')\n",
    "ax3.imshow(odL[:,:,1].T-dL[:,:,1].T, origin='lower')\n",
    "ax4.imshow(odL[:,:,0].T-dL[:,:,0].T, origin='lower')"
   ]
  },
  {
   "cell_type": "code",
   "execution_count": null,
   "id": "d89d0f7b",
   "metadata": {
    "pycharm": {
     "name": "#%%\n"
    }
   },
   "outputs": [],
   "source": []
  },
  {
   "cell_type": "code",
   "execution_count": null,
   "id": "d35f5ef0",
   "metadata": {
    "pycharm": {
     "name": "#%%\n"
    }
   },
   "outputs": [],
   "source": []
  },
  {
   "cell_type": "code",
   "execution_count": null,
   "id": "62ca0567",
   "metadata": {
    "pycharm": {
     "name": "#%%\n"
    }
   },
   "outputs": [],
   "source": [
    "# Test the grid creation algorithms, compare them\n",
    "dcs = c0s[1,:]\n",
    "oU_grid, ogrid_cum_sum = ui_old.Create_Unitary_Grid(c0s, c_bins, H_s)\n",
    "U_grid, cum_prod = Unitary_Grid(H_s, c_mins, dcs, c_bins)\n",
    "\n",
    "print(max(U_grid-oU_grid))\n",
    "print(ogrid_cum_sum-cum_prod)"
   ]
  },
  {
   "cell_type": "code",
   "execution_count": null,
   "id": "fa479988",
   "metadata": {
    "pycharm": {
     "name": "#%%\n"
    }
   },
   "outputs": [],
   "source": [
    "# Test cache creation\n",
    "E, Vl, Vr, CL, CH, strides_E, strides_L, strides_R, strides_C, first_elements_E, first_elements_C = Create_Interpolation_Cache( U_grid, cum_prod, c_bins)\n",
    "oEr, oE, oVl, oVr, oCL, oCH, osE, osL, osR, osC = ui_old.Create_Interpolation_Cache(oU_grid, ogrid_cum_sum, c_bins)\n",
    "\n",
    "print(mabs(oEr-E[:first_elements_E[1],:]))\n",
    "print(mabs(oE[0]-E[first_elements_E[1]:,:]))\n",
    "print(mabs(Vl-oVl))\n",
    "print(mabs(Vr-oVr))\n",
    "print(mabs(CL-oCL[0]))\n",
    "print(mabs(CH-oCH[0]))"
   ]
  },
  {
   "cell_type": "code",
   "execution_count": null,
   "id": "6efa0bc5",
   "metadata": {
    "pycharm": {
     "name": "#%%\n"
    }
   },
   "outputs": [],
   "source": [
    "#strides_E, strides_L, strides_R, strides_C, first_elements_E, first_elements_C\n",
    "#osE, osL, osR, osC\n",
    "for a, b in zip([strides_E, strides_L, strides_R, strides_C ], [osE, osL, osR, osC]):\n",
    "    print(np.asarray(a))\n",
    "    for bs in b:\n",
    "        print(bs)\n",
    "    line()"
   ]
  },
  {
   "cell_type": "code",
   "execution_count": null,
   "id": "f28f52fc",
   "metadata": {
    "pycharm": {
     "name": "#%%\n"
    }
   },
   "outputs": [],
   "source": []
  }
 ],
 "metadata": {
  "kernelspec": {
   "display_name": "Python 3 (ipykernel)",
   "language": "python",
   "name": "python3"
  },
  "language_info": {
   "codemirror_mode": {
    "name": "ipython",
    "version": 3
   },
   "file_extension": ".py",
   "mimetype": "text/x-python",
   "name": "python",
   "nbconvert_exporter": "python",
   "pygments_lexer": "ipython3",
   "version": "3.9.12"
  }
 },
 "nbformat": 4,
 "nbformat_minor": 5
}
